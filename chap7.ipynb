{
 "cells": [
  {
   "cell_type": "code",
   "execution_count": 9,
   "metadata": {},
   "outputs": [
    {
     "name": "stdout",
     "output_type": "stream",
     "text": [
      "jpg: ['da1.jpg', 'da5.jpg', 'da6.jpg']\n",
      "gif: ['da3.gif', 'da4.gif', 'da7.gif']\n",
      "png: ['da2.png']\n"
     ]
    }
   ],
   "source": [
    "#7.1 endswith\n",
    "pics = ['da1.jpg', 'da2.png', 'da3.gif', 'da4.gif', 'da5.jpg', 'da6.jpg', 'da7.gif']\n",
    "jpg = []\n",
    "gif = []\n",
    "png = []\n",
    "\n",
    "for pic in pics:\n",
    "    if pic.endswith('.jpg'):\n",
    "        jpg.append(pic)\n",
    "    elif pic.endswith('.gif'):\n",
    "        gif.append(pic)\n",
    "    else:\n",
    "        png.append(pic)\n",
    "\n",
    "print('jpg file:', jpg)\n",
    "print('gif file:', gif)\n",
    "print('png file:', png)"
   ]
  },
  {
   "cell_type": "code",
   "execution_count": 13,
   "metadata": {},
   "outputs": [
    {
     "name": "stdout",
     "output_type": "stream",
     "text": [
      "('James', 202)\n",
      "('David', 211)\n"
     ]
    }
   ],
   "source": [
    "#7.2 list\n",
    "\n",
    "players = [('James', 202), ('Curry', 193), ('Durant', 195), ('Jordan', 199), ('David', 211)]\n",
    "for player in players:\n",
    "    if player [:][1]> 200:\n",
    "        print(player)"
   ]
  },
  {
   "cell_type": "code",
   "execution_count": 22,
   "metadata": {},
   "outputs": [
    {
     "name": "stdin",
     "output_type": "stream",
     "text": [
      "please enter the money you want to save: 1000\n",
      "please enter the yearly rate: 0.01\n",
      "please enter the years you wnat to save: 5\n"
     ]
    },
    {
     "name": "stdout",
     "output_type": "stream",
     "text": [
      "Your 1 year saving total: 1010\n",
      "Your 2 year saving total: 1020\n",
      "Your 3 year saving total: 1030\n",
      "Your 4 year saving total: 1040\n",
      "Your 5 year saving total: 1051\n"
     ]
    }
   ],
   "source": [
    "#7.3 interst\n",
    "money = int(input('please enter the money you want to save:'))\n",
    "rate = float(input('please enter the yearly rate:'))\n",
    "n = int(input('please enter the years you wnat to save:'))\n",
    "\n",
    "for i in range(n):\n",
    "    money *= (1 + rate)\n",
    "    print (\"Your %d year saving total: %d\" % ((i+1),money))"
   ]
  },
  {
   "cell_type": "code",
   "execution_count": 29,
   "metadata": {},
   "outputs": [
    {
     "name": "stdout",
     "output_type": "stream",
     "text": [
      "Your weight become 51.2 in next 1 year\n",
      "Your weight become 52.4 in next 2 year\n",
      "Your weight become 53.6 in next 3 year\n",
      "Your weight become 54.8 in next 4 year\n",
      "Your weight become 56.0 in next 5 year\n"
     ]
    }
   ],
   "source": [
    "#7.4 weight\n",
    "weight = 50\n",
    "gain = 1.2\n",
    "n = 5\n",
    "\n",
    "for i in range(n):\n",
    "    weight += gain\n",
    "    print (\"Your weight becomes %4.1f in next %d year\" % (weight,(i+1)))"
   ]
  },
  {
   "cell_type": "code",
   "execution_count": 44,
   "metadata": {},
   "outputs": [
    {
     "name": "stdin",
     "output_type": "stream",
     "text": [
      "Please enter a start interger number 1\n",
      "Please enter a stop interger number 100\n"
     ]
    },
    {
     "name": "stdout",
     "output_type": "stream",
     "text": [
      "sum: 5050\n"
     ]
    }
   ],
   "source": [
    "#7.5 sum total\n",
    "n = int(input('Please enter a start interger number'))\n",
    "m = int(input('Please enter a stop interger number'))\n",
    "num = m - n + 1\n",
    "sum_total = 0\n",
    "\n",
    "for i in range(num):\n",
    "    sum_total += n + i \n",
    "    \n",
    "print('sum:',sum_total)"
   ]
  },
  {
   "cell_type": "code",
   "execution_count": 57,
   "metadata": {},
   "outputs": [
    {
     "name": "stdout",
     "output_type": "stream",
     "text": [
      "[0.0, 25.0, 40.0]\n"
     ]
    }
   ],
   "source": [
    "#7.6 temp conversion\n",
    "temp_f = [32, 77, 104]\n",
    "temp_c = []\n",
    "\n",
    "for i in temp_f:\n",
    "    temp_c.append((i-32)*5/9)\n",
    "print(temp_c)\n",
    "\n"
   ]
  },
  {
   "cell_type": "code",
   "execution_count": null,
   "metadata": {},
   "outputs": [],
   "source": []
  }
 ],
 "metadata": {
  "kernelspec": {
   "display_name": "Python 3",
   "language": "python",
   "name": "python3"
  },
  "language_info": {
   "codemirror_mode": {
    "name": "ipython",
    "version": 3
   },
   "file_extension": ".py",
   "mimetype": "text/x-python",
   "name": "python",
   "nbconvert_exporter": "python",
   "pygments_lexer": "ipython3",
   "version": "3.7.6"
  }
 },
 "nbformat": 4,
 "nbformat_minor": 4
}
